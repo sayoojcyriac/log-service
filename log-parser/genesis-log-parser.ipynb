{
 "cells": [
  {
   "cell_type": "code",
   "execution_count": 51,
   "id": "15d3d7c3",
   "metadata": {},
   "outputs": [],
   "source": [
    "import json\n",
    "import pandas as pd"
   ]
  },
  {
   "cell_type": "code",
   "execution_count": 52,
   "id": "8ff1e86c",
   "metadata": {},
   "outputs": [],
   "source": [
    "# Load the JSON log file\n",
    "file_path = '<path to log file>'"
   ]
  },
  {
   "cell_type": "code",
   "execution_count": null,
   "id": "163c5f98",
   "metadata": {},
   "outputs": [],
   "source": [
    "with open(file_path, 'r') as file:\n",
    "    log_data = json.load(file)\n",
    "\n",
    "# Display the first few entries to understand the structure\n",
    "log_data[:2]"
   ]
  },
  {
   "cell_type": "code",
   "execution_count": 54,
   "id": "7fdb99fe",
   "metadata": {},
   "outputs": [],
   "source": [
    "# Define the fields to extract\n",
    "fields_to_extract = ['tag', 'eventType', 'eventId', 'category', 'service', 'timestamp']\n",
    "context_fields_to_extract = ['measurement', 'unitType']\n",
    "correlation_fields_to_extract = ['requestT0', 'sessionId', 'actionId', 'customId']"
   ]
  },
  {
   "cell_type": "code",
   "execution_count": 55,
   "id": "e0a42cf8",
   "metadata": {},
   "outputs": [],
   "source": [
    "# Extract the specified fields from each log event\n",
    "extracted_data = []\n",
    "for event in log_data:\n",
    "    extracted_event = {field: event.get(field, None) for field in fields_to_extract}\n",
    "    \n",
    "    # Check for the context node inside payload and extract its fields\n",
    "    if 'payload' in event and 'context' in event['payload']:\n",
    "        context = event['payload']['context']\n",
    "        for field in context_fields_to_extract:\n",
    "            extracted_event[field] = context.get(field, None)\n",
    "    else:\n",
    "        # If context is not present, set the fields to None\n",
    "        for field in context_fields_to_extract:\n",
    "            extracted_event[field] = None\n",
    "            \n",
    "    # Check for the correlationId node and extract its fields\n",
    "    if 'correlationId' in event:\n",
    "        try:\n",
    "            correlation_id = json.loads(event['correlationId'])\n",
    "            for field in correlation_fields_to_extract:\n",
    "                value = correlation_id.get(field, None)\n",
    "                if field == 'requestT0' and value is not None:\n",
    "                    # Convert requestT0 to string to prevent exponential form\n",
    "                    extracted_event[field] = str(value)\n",
    "                else:\n",
    "                    extracted_event[field] = value\n",
    "        except json.JSONDecodeError:\n",
    "            for field in correlation_fields_to_extract:\n",
    "                extracted_event[field] = None\n",
    "    else:\n",
    "        # If correlationId is not present, set the fields to None\n",
    "        for field in correlation_fields_to_extract:\n",
    "            extracted_event[field] = None\n",
    "            \n",
    "    extracted_data.append(extracted_event)"
   ]
  },
  {
   "cell_type": "code",
   "execution_count": 56,
   "id": "3adb0fdf",
   "metadata": {},
   "outputs": [],
   "source": [
    "# Convert the extracted data into a pandas DataFrame\n",
    "df = pd.DataFrame(extracted_data)"
   ]
  },
  {
   "cell_type": "code",
   "execution_count": 57,
   "id": "7dca6ce9",
   "metadata": {},
   "outputs": [],
   "source": [
    "# Save the DataFrame to an Excel file\n",
    "output_file_path = '<path>/log-parser/extracted_log_data.xlsx'\n",
    "df.to_excel(output_file_path, index=False)"
   ]
  },
  {
   "cell_type": "code",
   "execution_count": null,
   "id": "079c9344",
   "metadata": {},
   "outputs": [],
   "source": [
    "print(f\"Extracted data has been saved to {output_file_path}\")"
   ]
  },
  {
   "cell_type": "code",
   "execution_count": null,
   "id": "fd73dce8",
   "metadata": {},
   "outputs": [],
   "source": []
  }
 ],
 "metadata": {
  "kernelspec": {
   "display_name": "Python 3 (ipykernel)",
   "language": "python",
   "name": "python3"
  },
  "language_info": {
   "codemirror_mode": {
    "name": "ipython",
    "version": 3
   },
   "file_extension": ".py",
   "mimetype": "text/x-python",
   "name": "python",
   "nbconvert_exporter": "python",
   "pygments_lexer": "ipython3",
   "version": "3.9.7"
  }
 },
 "nbformat": 4,
 "nbformat_minor": 5
}

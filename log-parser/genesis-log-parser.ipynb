{
 "cells": [
  {
   "cell_type": "code",
   "execution_count": 51,
   "id": "15d3d7c3",
   "metadata": {},
   "outputs": [],
   "source": [
    "import json\n",
    "import pandas as pd"
   ]
  },
  {
   "cell_type": "code",
   "execution_count": 52,
   "id": "8ff1e86c",
   "metadata": {},
   "outputs": [],
   "source": [
    "# Load the JSON log file\n",
    "file_path = '/Users/sayoojcyriac/tech-career/github/my-github/log-service/log-parser/genesis-sample-log.json'"
   ]
  },
  {
   "cell_type": "code",
   "execution_count": 53,
   "id": "163c5f98",
   "metadata": {},
   "outputs": [
    {
     "data": {
      "text/plain": [
       "[{'tag': 'Layout:PageLauncher',\n",
       "  'service': 'EV',\n",
       "  'category': 'PERF',\n",
       "  'eventId': 'EV_OpenStudy_05_0002',\n",
       "  'eventType': 'analytics-event',\n",
       "  'message': 'Launch Basic Review Page',\n",
       "  'payload': {},\n",
       "  'requestId': '{\"requestId\":\"ec6b4e20-e467-610d-95a3-2523e6f6d0f2_1\",\"requestT0\":1715613286496,\"sessionId\":\"a31b6ae0-968f-8920-735c-135c6fd89b3d\",\"applicationId\":\"EnterpriseViewer\",\"userIdHash\":\"1b7852b855\",\"appInstanceId\":\"EnterpriseViewer-70d17d5f-2228-e007-8259-1f71e3cd6b94\"}',\n",
       "  'version': '1.1.0-SNAPSHOT.20230920082841.7631b2a8',\n",
       "  'timestamp': '2024-05-13T15:14:46.496Z',\n",
       "  'logLevel': 'INFO'},\n",
       " {'tag': 'Application',\n",
       "  'eventType': 'analytics-event',\n",
       "  'message': '',\n",
       "  'eventId': 'IF_APPLICATIONMODEL_LAUNCH_01',\n",
       "  'category': 'WF',\n",
       "  'service': 'Application',\n",
       "  'version': '2.7.4',\n",
       "  'payload': {'applicationName': 'ev-layout-page'},\n",
       "  'correlationId': '{\"requestId\":\"2b40ed5b-ead9-8d8f-8235-c331b7cd0c99_1\",\"requestT0\":1715613286510,\"sessionId\":\"a31b6ae0-968f-8920-735c-135c6fd89b3d\",\"applicationId\":\"EnterpriseViewer\",\"userIdHash\":\"1b7852b855\",\"appInstanceId\":\"EnterpriseViewer-70d17d5f-2228-e007-8259-1f71e3cd6b94\"}',\n",
       "  'timestamp': '2024-05-13T15:14:46.510Z',\n",
       "  'logLevel': 'INFO'}]"
      ]
     },
     "execution_count": 53,
     "metadata": {},
     "output_type": "execute_result"
    }
   ],
   "source": [
    "with open(file_path, 'r') as file:\n",
    "    log_data = json.load(file)\n",
    "\n",
    "# Display the first few entries to understand the structure\n",
    "log_data[:2]"
   ]
  },
  {
   "cell_type": "code",
   "execution_count": 54,
   "id": "7fdb99fe",
   "metadata": {},
   "outputs": [],
   "source": [
    "# Define the fields to extract\n",
    "fields_to_extract = ['tag', 'eventType', 'eventId', 'category', 'service', 'timestamp']\n",
    "context_fields_to_extract = ['measurement', 'unitType']\n",
    "correlation_fields_to_extract = ['requestT0', 'sessionId', 'actionId', 'customId']"
   ]
  },
  {
   "cell_type": "code",
   "execution_count": 55,
   "id": "e0a42cf8",
   "metadata": {},
   "outputs": [],
   "source": [
    "# Extract the specified fields from each log event\n",
    "extracted_data = []\n",
    "for event in log_data:\n",
    "    extracted_event = {field: event.get(field, None) for field in fields_to_extract}\n",
    "    \n",
    "    # Check for the context node inside payload and extract its fields\n",
    "    if 'payload' in event and 'context' in event['payload']:\n",
    "        context = event['payload']['context']\n",
    "        for field in context_fields_to_extract:\n",
    "            extracted_event[field] = context.get(field, None)\n",
    "    else:\n",
    "        # If context is not present, set the fields to None\n",
    "        for field in context_fields_to_extract:\n",
    "            extracted_event[field] = None\n",
    "            \n",
    "    # Check for the correlationId node and extract its fields\n",
    "    if 'correlationId' in event:\n",
    "        try:\n",
    "            correlation_id = json.loads(event['correlationId'])\n",
    "            for field in correlation_fields_to_extract:\n",
    "                value = correlation_id.get(field, None)\n",
    "                if field == 'requestT0' and value is not None:\n",
    "                    # Convert requestT0 to string to prevent exponential form\n",
    "                    extracted_event[field] = str(value)\n",
    "                else:\n",
    "                    extracted_event[field] = value\n",
    "        except json.JSONDecodeError:\n",
    "            for field in correlation_fields_to_extract:\n",
    "                extracted_event[field] = None\n",
    "    else:\n",
    "        # If correlationId is not present, set the fields to None\n",
    "        for field in correlation_fields_to_extract:\n",
    "            extracted_event[field] = None\n",
    "            \n",
    "    extracted_data.append(extracted_event)"
   ]
  },
  {
   "cell_type": "code",
   "execution_count": 56,
   "id": "3adb0fdf",
   "metadata": {},
   "outputs": [],
   "source": [
    "# Convert the extracted data into a pandas DataFrame\n",
    "df = pd.DataFrame(extracted_data)"
   ]
  },
  {
   "cell_type": "code",
   "execution_count": 57,
   "id": "7dca6ce9",
   "metadata": {},
   "outputs": [],
   "source": [
    "# Save the DataFrame to an Excel file\n",
    "output_file_path = '/Users/sayoojcyriac/tech-career/github/my-github/log-service/log-parser/extracted_log_data.xlsx'\n",
    "df.to_excel(output_file_path, index=False)"
   ]
  },
  {
   "cell_type": "code",
   "execution_count": 58,
   "id": "079c9344",
   "metadata": {},
   "outputs": [
    {
     "name": "stdout",
     "output_type": "stream",
     "text": [
      "Extracted data has been saved to /Users/sayoojcyriac/tech-career/github/my-github/log-service/log-parser/extracted_log_data.xlsx\n"
     ]
    }
   ],
   "source": [
    "print(f\"Extracted data has been saved to {output_file_path}\")"
   ]
  },
  {
   "cell_type": "code",
   "execution_count": null,
   "id": "fd73dce8",
   "metadata": {},
   "outputs": [],
   "source": []
  }
 ],
 "metadata": {
  "kernelspec": {
   "display_name": "Python 3 (ipykernel)",
   "language": "python",
   "name": "python3"
  },
  "language_info": {
   "codemirror_mode": {
    "name": "ipython",
    "version": 3
   },
   "file_extension": ".py",
   "mimetype": "text/x-python",
   "name": "python",
   "nbconvert_exporter": "python",
   "pygments_lexer": "ipython3",
   "version": "3.9.7"
  }
 },
 "nbformat": 4,
 "nbformat_minor": 5
}

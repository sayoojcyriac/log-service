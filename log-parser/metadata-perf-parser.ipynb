{
 "cells": [
  {
   "cell_type": "code",
   "execution_count": 34,
   "id": "0991a1e4",
   "metadata": {},
   "outputs": [],
   "source": [
    "import json\n",
    "import pandas as pd"
   ]
  },
  {
   "cell_type": "code",
   "execution_count": 35,
   "id": "1952105a",
   "metadata": {},
   "outputs": [],
   "source": [
    "# Load the JSON log file\n",
    "file_path = '<path to log file>'"
   ]
  },
  {
   "cell_type": "code",
   "execution_count": 36,
   "id": "86af23c1",
   "metadata": {},
   "outputs": [],
   "source": [
    "with open(file_path, 'r') as file:\n",
    "    log_data = json.load(file)"
   ]
  },
  {
   "cell_type": "code",
   "execution_count": 37,
   "id": "07cb02f2",
   "metadata": {},
   "outputs": [],
   "source": [
    "# Define the fields to extract\n",
    "main_fields_to_extract = ['eventId', 'category', 'service']\n",
    "context_fields_to_extract = ['dataStore', 'numberOfStudies', 'numberOfSeries', 'numberOfInstances', 'numberOfFrames']\n",
    "query_fields_to_extract = ['startTime', 'endTime', 'dicomDataRequestTimeMs', 'ndFramesRequestTimeMs', 'backendTimeMs', 'frontendTimeMs', 'totalTimeMs']\n",
    "correlation_fields_to_extract = ['requestT0', 'sessionId', 'actionId', 'customId']"
   ]
  },
  {
   "cell_type": "code",
   "execution_count": 38,
   "id": "21f12fde",
   "metadata": {},
   "outputs": [],
   "source": [
    "# Extract the specified fields from IF_DATASETLOADER_PERF_01 log events\n",
    "extracted_data = []\n",
    "for event in log_data:\n",
    "    if event.get('eventId') == 'IF_DATASETLOADER_PERF_01':\n",
    "        extracted_event = {field: event.get(field, None) for field in main_fields_to_extract}\n",
    "        \n",
    "        # Check for the context node inside payload and extract its fields\n",
    "        if 'payload' in event and 'context' in event['payload']:\n",
    "            context = event['payload']['context']\n",
    "            for field in context_fields_to_extract:\n",
    "                extracted_event[field] = context.get(field, None)\n",
    "            \n",
    "            # Check for the query node inside steps and extract its fields\n",
    "            if 'steps' in context and 'query' in context['steps']:\n",
    "                query = context['steps']['query']\n",
    "                for field in query_fields_to_extract:\n",
    "                    value = query.get(field, None)\n",
    "                    if field in ['startTime', 'endTime'] and value is not None:\n",
    "                        extracted_event[field] = str(value)  # Convert startTime and endTime to string to prevent exponential form\n",
    "                    else:\n",
    "                        extracted_event[field] = value\n",
    "                        \n",
    "        # Check for the correlationId node and extract its fields\n",
    "        if 'correlationId' in event:\n",
    "            try:\n",
    "                correlation_id = json.loads(event['correlationId'])\n",
    "                for field in correlation_fields_to_extract:\n",
    "                    value = correlation_id.get(field, None)\n",
    "                    if field == 'requestT0' and value is not None:\n",
    "                        # Convert requestT0 to string to prevent exponential form\n",
    "                        extracted_event[field] = str(value)\n",
    "                    else:\n",
    "                        extracted_event[field] = value\n",
    "            except json.JSONDecodeError:\n",
    "                for field in correlation_fields_to_extract:\n",
    "                    extracted_event[field] = None\n",
    "        else:\n",
    "            # If correlationId is not present, set the fields to None\n",
    "            for field in correlation_fields_to_extract:\n",
    "                extracted_event[field] = None\n",
    "        \n",
    "        extracted_data.append(extracted_event)"
   ]
  },
  {
   "cell_type": "code",
   "execution_count": 39,
   "id": "8d514f6c",
   "metadata": {},
   "outputs": [],
   "source": [
    "# Convert the extracted data into a pandas DataFrame\n",
    "df = pd.DataFrame(extracted_data)"
   ]
  },
  {
   "cell_type": "code",
   "execution_count": 40,
   "id": "754f2ad8",
   "metadata": {},
   "outputs": [],
   "source": [
    "# Save the DataFrame to an Excel file\n",
    "output_file_path = '<path>/metadata-performance.xlsx'\n",
    "df.to_excel(output_file_path, index=False)"
   ]
  },
  {
   "cell_type": "code",
   "execution_count": 41,
   "id": "04c7c01a",
   "metadata": {},
   "outputs": [
    {
     "name": "stdout",
     "output_type": "stream",
     "text": [
      "Extracted data has been saved to /Users/sayoojcyriac/tech-career/github/log-service/log-parser/metadata-performance.xlsx\n"
     ]
    }
   ],
   "source": [
    "print(f\"Extracted data has been saved to {output_file_path}\")"
   ]
  },
  {
   "cell_type": "code",
   "execution_count": null,
   "id": "c2dc8d7f",
   "metadata": {},
   "outputs": [],
   "source": []
  }
 ],
 "metadata": {
  "kernelspec": {
   "display_name": "Python 3 (ipykernel)",
   "language": "python",
   "name": "python3"
  },
  "language_info": {
   "codemirror_mode": {
    "name": "ipython",
    "version": 3
   },
   "file_extension": ".py",
   "mimetype": "text/x-python",
   "name": "python",
   "nbconvert_exporter": "python",
   "pygments_lexer": "ipython3",
   "version": "3.9.7"
  }
 },
 "nbformat": 4,
 "nbformat_minor": 5
}
